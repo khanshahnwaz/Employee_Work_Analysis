{
 "cells": [
  {
   "cell_type": "code",
   "execution_count": 346,
   "metadata": {},
   "outputs": [],
   "source": [
    "import pandas as pd"
   ]
  },
  {
   "cell_type": "code",
   "execution_count": 347,
   "metadata": {},
   "outputs": [
    {
     "data": {
      "text/html": [
       "<div>\n",
       "<style scoped>\n",
       "    .dataframe tbody tr th:only-of-type {\n",
       "        vertical-align: middle;\n",
       "    }\n",
       "\n",
       "    .dataframe tbody tr th {\n",
       "        vertical-align: top;\n",
       "    }\n",
       "\n",
       "    .dataframe thead th {\n",
       "        text-align: right;\n",
       "    }\n",
       "</style>\n",
       "<table border=\"1\" class=\"dataframe\">\n",
       "  <thead>\n",
       "    <tr style=\"text-align: right;\">\n",
       "      <th></th>\n",
       "      <th>Position ID</th>\n",
       "      <th>Position Status</th>\n",
       "      <th>Time</th>\n",
       "      <th>Time Out</th>\n",
       "      <th>Timecard Hours (as Time)</th>\n",
       "      <th>Pay Cycle Start Date</th>\n",
       "      <th>Pay Cycle End Date</th>\n",
       "      <th>Employee Name</th>\n",
       "      <th>File Number</th>\n",
       "    </tr>\n",
       "  </thead>\n",
       "  <tbody>\n",
       "    <tr>\n",
       "      <th>0</th>\n",
       "      <td>WFS000054</td>\n",
       "      <td>Active</td>\n",
       "      <td>NaT</td>\n",
       "      <td>NaT</td>\n",
       "      <td>NaN</td>\n",
       "      <td>NaT</td>\n",
       "      <td>NaT</td>\n",
       "      <td>SiWgh, PraGhjEM</td>\n",
       "      <td>54</td>\n",
       "    </tr>\n",
       "    <tr>\n",
       "      <th>1</th>\n",
       "      <td>WFS000065</td>\n",
       "      <td>Active</td>\n",
       "      <td>2023-09-12 10:08:00</td>\n",
       "      <td>2023-09-12 13:53:00</td>\n",
       "      <td>3:45</td>\n",
       "      <td>2023-09-10</td>\n",
       "      <td>2023-09-23</td>\n",
       "      <td>REsaXiaWE, XAis</td>\n",
       "      <td>65</td>\n",
       "    </tr>\n",
       "    <tr>\n",
       "      <th>2</th>\n",
       "      <td>WFS000065</td>\n",
       "      <td>Active</td>\n",
       "      <td>2023-09-12 14:23:00</td>\n",
       "      <td>2023-09-12 19:02:00</td>\n",
       "      <td>4:39</td>\n",
       "      <td>2023-09-10</td>\n",
       "      <td>2023-09-23</td>\n",
       "      <td>REsaXiaWE, XAis</td>\n",
       "      <td>65</td>\n",
       "    </tr>\n",
       "    <tr>\n",
       "      <th>3</th>\n",
       "      <td>WFS000065</td>\n",
       "      <td>Active</td>\n",
       "      <td>2023-09-13 10:08:00</td>\n",
       "      <td>2023-09-13 14:20:00</td>\n",
       "      <td>4:12</td>\n",
       "      <td>2023-09-10</td>\n",
       "      <td>2023-09-23</td>\n",
       "      <td>REsaXiaWE, XAis</td>\n",
       "      <td>65</td>\n",
       "    </tr>\n",
       "    <tr>\n",
       "      <th>4</th>\n",
       "      <td>WFS000065</td>\n",
       "      <td>Active</td>\n",
       "      <td>2023-09-13 14:50:00</td>\n",
       "      <td>2023-09-13 20:44:00</td>\n",
       "      <td>5:54</td>\n",
       "      <td>2023-09-10</td>\n",
       "      <td>2023-09-23</td>\n",
       "      <td>REsaXiaWE, XAis</td>\n",
       "      <td>65</td>\n",
       "    </tr>\n",
       "    <tr>\n",
       "      <th>...</th>\n",
       "      <td>...</td>\n",
       "      <td>...</td>\n",
       "      <td>...</td>\n",
       "      <td>...</td>\n",
       "      <td>...</td>\n",
       "      <td>...</td>\n",
       "      <td>...</td>\n",
       "      <td>...</td>\n",
       "      <td>...</td>\n",
       "    </tr>\n",
       "    <tr>\n",
       "      <th>1479</th>\n",
       "      <td>WFS000589</td>\n",
       "      <td>Active</td>\n",
       "      <td>2023-09-20 09:55:00</td>\n",
       "      <td>2023-09-20 14:30:00</td>\n",
       "      <td>4:35</td>\n",
       "      <td>2023-09-10</td>\n",
       "      <td>2023-09-23</td>\n",
       "      <td>WgAyeW, RayCEWd</td>\n",
       "      <td>589</td>\n",
       "    </tr>\n",
       "    <tr>\n",
       "      <th>1480</th>\n",
       "      <td>WFS000589</td>\n",
       "      <td>Active</td>\n",
       "      <td>2023-09-20 15:00:00</td>\n",
       "      <td>2023-09-20 19:29:41</td>\n",
       "      <td>4:29</td>\n",
       "      <td>2023-09-10</td>\n",
       "      <td>2023-09-23</td>\n",
       "      <td>WgAyeW, RayCEWd</td>\n",
       "      <td>589</td>\n",
       "    </tr>\n",
       "    <tr>\n",
       "      <th>1481</th>\n",
       "      <td>WFS000589</td>\n",
       "      <td>Active</td>\n",
       "      <td>2023-09-21 09:56:00</td>\n",
       "      <td>2023-09-21 14:30:00</td>\n",
       "      <td>4:34</td>\n",
       "      <td>2023-09-10</td>\n",
       "      <td>2023-09-23</td>\n",
       "      <td>WgAyeW, RayCEWd</td>\n",
       "      <td>589</td>\n",
       "    </tr>\n",
       "    <tr>\n",
       "      <th>1482</th>\n",
       "      <td>WFS000589</td>\n",
       "      <td>Active</td>\n",
       "      <td>2023-09-21 15:00:01</td>\n",
       "      <td>2023-09-21 19:16:05</td>\n",
       "      <td>4:16</td>\n",
       "      <td>2023-09-10</td>\n",
       "      <td>2023-09-23</td>\n",
       "      <td>WgAyeW, RayCEWd</td>\n",
       "      <td>589</td>\n",
       "    </tr>\n",
       "    <tr>\n",
       "      <th>1483</th>\n",
       "      <td>WFS000591</td>\n",
       "      <td>Active</td>\n",
       "      <td>NaT</td>\n",
       "      <td>NaT</td>\n",
       "      <td>NaN</td>\n",
       "      <td>NaT</td>\n",
       "      <td>NaT</td>\n",
       "      <td>ArveXE RECerE, AWdres JesAs</td>\n",
       "      <td>591</td>\n",
       "    </tr>\n",
       "  </tbody>\n",
       "</table>\n",
       "<p>1484 rows × 9 columns</p>\n",
       "</div>"
      ],
      "text/plain": [
       "     Position ID Position Status                Time            Time Out  \\\n",
       "0      WFS000054          Active                 NaT                 NaT   \n",
       "1      WFS000065          Active 2023-09-12 10:08:00 2023-09-12 13:53:00   \n",
       "2      WFS000065          Active 2023-09-12 14:23:00 2023-09-12 19:02:00   \n",
       "3      WFS000065          Active 2023-09-13 10:08:00 2023-09-13 14:20:00   \n",
       "4      WFS000065          Active 2023-09-13 14:50:00 2023-09-13 20:44:00   \n",
       "...          ...             ...                 ...                 ...   \n",
       "1479   WFS000589          Active 2023-09-20 09:55:00 2023-09-20 14:30:00   \n",
       "1480   WFS000589          Active 2023-09-20 15:00:00 2023-09-20 19:29:41   \n",
       "1481   WFS000589          Active 2023-09-21 09:56:00 2023-09-21 14:30:00   \n",
       "1482   WFS000589          Active 2023-09-21 15:00:01 2023-09-21 19:16:05   \n",
       "1483   WFS000591          Active                 NaT                 NaT   \n",
       "\n",
       "     Timecard Hours (as Time) Pay Cycle Start Date Pay Cycle End Date  \\\n",
       "0                         NaN                  NaT                NaT   \n",
       "1                        3:45           2023-09-10         2023-09-23   \n",
       "2                        4:39           2023-09-10         2023-09-23   \n",
       "3                        4:12           2023-09-10         2023-09-23   \n",
       "4                        5:54           2023-09-10         2023-09-23   \n",
       "...                       ...                  ...                ...   \n",
       "1479                     4:35           2023-09-10         2023-09-23   \n",
       "1480                     4:29           2023-09-10         2023-09-23   \n",
       "1481                     4:34           2023-09-10         2023-09-23   \n",
       "1482                     4:16           2023-09-10         2023-09-23   \n",
       "1483                      NaN                  NaT                NaT   \n",
       "\n",
       "                    Employee Name  File Number  \n",
       "0                 SiWgh, PraGhjEM           54  \n",
       "1                 REsaXiaWE, XAis           65  \n",
       "2                 REsaXiaWE, XAis           65  \n",
       "3                 REsaXiaWE, XAis           65  \n",
       "4                 REsaXiaWE, XAis           65  \n",
       "...                           ...          ...  \n",
       "1479              WgAyeW, RayCEWd          589  \n",
       "1480              WgAyeW, RayCEWd          589  \n",
       "1481              WgAyeW, RayCEWd          589  \n",
       "1482              WgAyeW, RayCEWd          589  \n",
       "1483  ArveXE RECerE, AWdres JesAs          591  \n",
       "\n",
       "[1484 rows x 9 columns]"
      ]
     },
     "metadata": {},
     "output_type": "display_data"
    }
   ],
   "source": [
    "# read the input file \n",
    "data=pd.read_excel('Assignment_Timecard.xlsx')\n",
    "display(data)"
   ]
  },
  {
   "cell_type": "code",
   "execution_count": 348,
   "metadata": {},
   "outputs": [],
   "source": [
    "# get columns and rows length\n",
    "# print(data.columns.size)\n",
    "# print(len(data))"
   ]
  },
  {
   "cell_type": "code",
   "execution_count": 349,
   "metadata": {},
   "outputs": [
    {
     "name": "stdout",
     "output_type": "stream",
     "text": [
      "<class 'pandas.core.frame.DataFrame'>\n",
      "RangeIndex: 1484 entries, 0 to 1483\n",
      "Data columns (total 9 columns):\n",
      " #   Column                    Non-Null Count  Dtype         \n",
      "---  ------                    --------------  -----         \n",
      " 0   Position ID               1484 non-null   object        \n",
      " 1   Position Status           1484 non-null   object        \n",
      " 2   Time                      1474 non-null   datetime64[ns]\n",
      " 3   Time Out                  1470 non-null   datetime64[ns]\n",
      " 4   Timecard Hours (as Time)  1474 non-null   object        \n",
      " 5   Pay Cycle Start Date      1474 non-null   datetime64[ns]\n",
      " 6   Pay Cycle End Date        1474 non-null   datetime64[ns]\n",
      " 7   Employee Name             1484 non-null   object        \n",
      " 8   File Number               1484 non-null   int64         \n",
      "dtypes: datetime64[ns](4), int64(1), object(4)\n",
      "memory usage: 104.5+ KB\n"
     ]
    }
   ],
   "source": [
    "# decription of data\n",
    "# data.describe()\n",
    "data.info()"
   ]
  },
  {
   "cell_type": "code",
   "execution_count": 350,
   "metadata": {},
   "outputs": [
    {
     "data": {
      "text/plain": [
       "0       5\n",
       "1       0\n",
       "2       0\n",
       "3       0\n",
       "4       0\n",
       "       ..\n",
       "1479    0\n",
       "1480    0\n",
       "1481    0\n",
       "1482    0\n",
       "1483    5\n",
       "Length: 1484, dtype: int64"
      ]
     },
     "execution_count": 350,
     "metadata": {},
     "output_type": "execute_result"
    }
   ],
   "source": [
    "# get details about null\n",
    "data.isna().sum(axis=1)"
   ]
  },
  {
   "cell_type": "code",
   "execution_count": 351,
   "metadata": {},
   "outputs": [
    {
     "data": {
      "text/plain": [
       "Position ID                  0\n",
       "Position Status              0\n",
       "Time                        10\n",
       "Time Out                    14\n",
       "Timecard Hours (as Time)    10\n",
       "Pay Cycle Start Date        10\n",
       "Pay Cycle End Date          10\n",
       "Employee Name                0\n",
       "File Number                  0\n",
       "dtype: int64"
      ]
     },
     "execution_count": 351,
     "metadata": {},
     "output_type": "execute_result"
    }
   ],
   "source": [
    "# Missing values in columns\n",
    "data.isna().sum()"
   ]
  },
  {
   "cell_type": "markdown",
   "metadata": {},
   "source": [
    "Since there are missing values in time columns, it will not be a bad idea if we fill the missing values with the previous valid value"
   ]
  },
  {
   "cell_type": "code",
   "execution_count": 352,
   "metadata": {},
   "outputs": [
    {
     "name": "stderr",
     "output_type": "stream",
     "text": [
      "C:\\Users\\aveng\\AppData\\Local\\Temp\\ipykernel_13956\\2462040513.py:1: FutureWarning: DataFrame.fillna with 'method' is deprecated and will raise in a future version. Use obj.ffill() or obj.bfill() instead.\n",
      "  data.fillna(axis=0,method='ffill',inplace=True)\n",
      "C:\\Users\\aveng\\AppData\\Local\\Temp\\ipykernel_13956\\2462040513.py:3: FutureWarning: DataFrame.fillna with 'method' is deprecated and will raise in a future version. Use obj.ffill() or obj.bfill() instead.\n",
      "  data.fillna(method='bfill',inplace=True)\n"
     ]
    },
    {
     "data": {
      "text/plain": [
       "Position ID                 0\n",
       "Position Status             0\n",
       "Time                        0\n",
       "Time Out                    0\n",
       "Timecard Hours (as Time)    0\n",
       "Pay Cycle Start Date        0\n",
       "Pay Cycle End Date          0\n",
       "Employee Name               0\n",
       "File Number                 0\n",
       "dtype: int64"
      ]
     },
     "execution_count": 352,
     "metadata": {},
     "output_type": "execute_result"
    }
   ],
   "source": [
    "data.fillna(axis=0,method='ffill',inplace=True)\n",
    "# if there are columns which first value is missing, then replace it with the next valid value\n",
    "data.fillna(method='bfill',inplace=True)\n",
    "data.isna().sum()"
   ]
  },
  {
   "cell_type": "code",
   "execution_count": 353,
   "metadata": {},
   "outputs": [],
   "source": [
    "def convert_to_timedelta(time_str):\n",
    "    # Split the time string into hours, minutes, and seconds\n",
    "    # print(map(int,time_str.split(\":\")))\n",
    "    # print(time_str.split(':'))\n",
    "    hours, minutes = map(int,time_str.split(':'))\n",
    "    # # Create a timedelta object\n",
    "    return pd.Timedelta(hours=hours, minutes=minutes,seconds=0)"
   ]
  },
  {
   "cell_type": "code",
   "execution_count": 354,
   "metadata": {},
   "outputs": [],
   "source": [
    "# Timecard column is of object type, to check the shift hours, we need to make it comparable.\n",
    "data['Timecard Hours (as Time)']=data['Timecard Hours (as Time)'].apply(convert_to_timedelta)"
   ]
  },
  {
   "cell_type": "markdown",
   "metadata": {},
   "source": [
    "Now our data has no missing values, we can perform our queries to get the results"
   ]
  },
  {
   "cell_type": "markdown",
   "metadata": {},
   "source": [
    "Query:\n",
    "Programmatically analyze the file and print in console the name and position of employees \n",
    "      a) who has worked for 7 consecutive days.\n",
    "      b) who have less than 10 hours of time between shifts but greater than 1 hour\n",
    "      c) Who has worked for more than 14 hours in a single shift"
   ]
  },
  {
   "cell_type": "markdown",
   "metadata": {},
   "source": [
    "Printing name of employee who meets all the three conditions (worked for 7 consecutive days, less than 10 hours between shifts, and worked more than 14 hours in a single shift)"
   ]
  },
  {
   "cell_type": "code",
   "execution_count": 356,
   "metadata": {},
   "outputs": [],
   "source": [
    " # a) Employees who have worked for 7 consecutive days\n",
    "consecutive_days = data.groupby('Employee Name')['Time'].diff().dt.days == 1\n",
    "employees_7_consecutive_days = data[consecutive_days].groupby('Employee Name').filter(lambda x: len(x) >= 7)\n"
   ]
  },
  {
   "cell_type": "code",
   "execution_count": 357,
   "metadata": {},
   "outputs": [],
   "source": [
    "# b) Employees with less than 10 hours between shifts but greater than 1 hour\n",
    "time_between_shifts = data.groupby('Employee Name')['Time'].diff().dt.total_seconds() / 3600\n",
    "employees_less_than_10_hours = data[(time_between_shifts < 10) & (time_between_shifts > 1)]\n",
    "\n",
    " # c) Employees who worked for more than 14 hours in a single shift\n",
    "long_shift_employee=data[data['Timecard Hours (as Time)'] > pd.Timedelta(hours=14)]"
   ]
  },
  {
   "cell_type": "code",
   "execution_count": 358,
   "metadata": {},
   "outputs": [],
   "source": [
    "# Find employees who meet all three conditions\n",
    "employees_meeting_all_conditions = set(employees_7_consecutive_days['Employee Name']).intersection(set(employees_less_than_10_hours['Employee Name'])).intersection(set(long_shift_employee['Employee Name']))"
   ]
  },
  {
   "cell_type": "markdown",
   "metadata": {},
   "source": [
    "Final Output"
   ]
  },
  {
   "cell_type": "code",
   "execution_count": 359,
   "metadata": {},
   "outputs": [
    {
     "data": {
      "text/plain": [
       "'Employee Names Are: '"
      ]
     },
     "metadata": {},
     "output_type": "display_data"
    },
    {
     "data": {
      "text/plain": [
       "set()"
      ]
     },
     "metadata": {},
     "output_type": "display_data"
    }
   ],
   "source": [
    "display(\"Employee Names Are: \")\n",
    "display(employees_meeting_all_conditions)"
   ]
  },
  {
   "cell_type": "code",
   "execution_count": null,
   "metadata": {},
   "outputs": [],
   "source": []
  }
 ],
 "metadata": {
  "kernelspec": {
   "display_name": "Python 3",
   "language": "python",
   "name": "python3"
  },
  "language_info": {
   "codemirror_mode": {
    "name": "ipython",
    "version": 3
   },
   "file_extension": ".py",
   "mimetype": "text/x-python",
   "name": "python",
   "nbconvert_exporter": "python",
   "pygments_lexer": "ipython3",
   "version": "3.11.3"
  },
  "orig_nbformat": 4
 },
 "nbformat": 4,
 "nbformat_minor": 2
}
